{
 "cells": [
  {
   "cell_type": "code",
   "execution_count": null,
   "id": "75d038f1",
   "metadata": {},
   "outputs": [],
   "source": [
    "pip install vanna[openai,mysql]"
   ]
  },
  {
   "cell_type": "code",
   "execution_count": 1,
   "id": "e0051f22",
   "metadata": {},
   "outputs": [],
   "source": [
    "from vanna.openai import OpenAI_Chat\n",
    "from openai import AzureOpenAI\n",
    "from vanna.vannadb import VannaDB_VectorStore"
   ]
  },
  {
   "cell_type": "code",
   "execution_count": 2,
   "id": "a2ed8682",
   "metadata": {},
   "outputs": [],
   "source": [
    "\n",
    "class MyVanna(VannaDB_VectorStore, OpenAI_Chat):\n",
    "    def __init__(self, config=None):\n",
    "\n",
    "        MY_VANNA_MODEL = \"\"\n",
    "        MY_VANNA_API_KEY = \"\"\n",
    "         \n",
    "        VannaDB_VectorStore.__init__(self, vanna_model=MY_VANNA_MODEL, vanna_api_key=MY_VANNA_API_KEY, config=config)\n",
    "        \n",
    "        azure_openai_client = AzureOpenAI(\n",
    "            azure_endpoint=\"\",\n",
    "            api_key=\"\",\n",
    "            api_version=\"\"\n",
    "        )\n",
    "        \n",
    "        OpenAI_Chat.__init__(self, client=azure_openai_client, config=config)\n",
    "\n",
    "vn = MyVanna(config={'model': 'gpt-35-turbo-16k-1'})\n"
   ]
  },
  {
   "cell_type": "code",
   "execution_count": 3,
   "id": "9be75277",
   "metadata": {},
   "outputs": [],
   "source": [
    "vn.connect_to_mysql(host='localhost', dbname='otofiyat', user='root', password='', port=3306)\n"
   ]
  },
  {
   "cell_type": "code",
   "execution_count": 4,
   "id": "07467bb4",
   "metadata": {},
   "outputs": [
    {
     "name": "stdout",
     "output_type": "stream",
     "text": [
      "Train on Information Schema: def.otofiyat otomobil_fiyatlari\n"
     ]
    }
   ],
   "source": [
    "df_information_schema = vn.run_sql(\"\"\"\n",
    "    SELECT *\n",
    "    FROM INFORMATION_SCHEMA.COLUMNS\n",
    "    WHERE TABLE_NAME = 'otomobil_fiyatlari'\n",
    "\"\"\")\n",
    "\n",
    "plan = vn.get_training_plan_generic(df_information_schema)\n",
    "\n",
    "print(plan)\n"
   ]
  },
  {
   "cell_type": "code",
   "execution_count": 5,
   "id": "b99355df",
   "metadata": {},
   "outputs": [],
   "source": [
    "vn.train(plan=plan)"
   ]
  },
  {
   "cell_type": "code",
   "execution_count": 6,
   "id": "de2e7078",
   "metadata": {},
   "outputs": [
    {
     "name": "stdout",
     "output_type": "stream",
     "text": [
      "Adding ddl:  \n",
      "    CREATE TABLE IF NOT EXISTS otomobil_fiyatlari (\n",
      "        id INT PRIMARY KEY AUTO_INCREMENT,\n",
      "        marka VARCHAR(50),\n",
      "        model VARCHAR(50),\n",
      "        donanim VARCHAR(200),\n",
      "        motor VARCHAR(50),\n",
      "        yakit VARCHAR(50),\n",
      "        vites VARCHAR(50),\n",
      "        fiyat INT,\n",
      "        websitesi VARCHAR(50)\n",
      "    )\n",
      "\n",
      "Adding documentation....\n",
      "Using model gpt-35-turbo-16k-1 for 68.5 tokens (approx)\n",
      "Question generated with sql: What are the prices of Alfa Romeo cars? \n",
      "Adding SQL...\n",
      "Using model gpt-35-turbo-16k-1 for 67.0 tokens (approx)\n",
      "Question generated with sql: What are the prices of vehicles that are less than 500,000? \n",
      "Adding SQL...\n",
      "Using model gpt-35-turbo-16k-1 for 71.25 tokens (approx)\n",
      "Question generated with sql: What are the car brands, models, and prices in descending order of price? \n",
      "Adding SQL...\n",
      "Using model gpt-35-turbo-16k-1 for 99.25 tokens (approx)\n",
      "Question generated with sql: What is the price of a BMW 3 Series with Sport trim, 2.0L engine, automatic transmission, and petrol fuel type? \n",
      "Adding SQL...\n"
     ]
    },
    {
     "data": {
      "text/plain": [
       "'9ac7becb794fde4d36769b03473d4118-sql'"
      ]
     },
     "execution_count": 6,
     "metadata": {},
     "output_type": "execute_result"
    }
   ],
   "source": [
    "vn.train(ddl=\"\"\" \n",
    "    CREATE TABLE IF NOT EXISTS otomobil_fiyatlari (\n",
    "        id INT PRIMARY KEY AUTO_INCREMENT,\n",
    "        marka VARCHAR(50),\n",
    "        model VARCHAR(50),\n",
    "        donanim VARCHAR(200),\n",
    "        motor VARCHAR(50),\n",
    "        yakit VARCHAR(50),\n",
    "        vites VARCHAR(50),\n",
    "        fiyat INT,\n",
    "        websitesi VARCHAR(50)\n",
    "    )\n",
    "\"\"\")\n",
    "\n",
    "vn.train(documentation=\"Otomobil fiyatları tablosu, farklı otomobil markaları ve modellerinin fiyat bilgilerini içerir. Her bir otomobilin donanım özellikleri, motor türü, yakıt tipi, vites türü ve fiyat bilgisi bulunur.\")\n",
    "\n",
    "vn.train(sql=\"SELECT * FROM otomobil_fiyatlari WHERE marka = 'Alfa Romeo';\")\n",
    "vn.train(sql=\"SELECT * FROM otomobil_fiyatlari WHERE fiyat < 500000;\")\n",
    "vn.train(sql=\"SELECT marka, model, fiyat FROM otomobil_fiyatlari ORDER BY fiyat DESC;\")\n",
    "vn.train(sql=\"INSERT INTO otomobil_fiyatlari (marka, model, donanim, motor, yakit, vites, fiyat, websitesi) VALUES ('BMW', '3 Series', 'Sport', '2.0L', 'Benzin', 'Otomatik', 600000, 'www.bmw.com');\")\n"
   ]
  },
  {
   "cell_type": "code",
   "execution_count": 7,
   "id": "892556dd",
   "metadata": {},
   "outputs": [
    {
     "data": {
      "text/html": [
       "<div>\n",
       "<style scoped>\n",
       "    .dataframe tbody tr th:only-of-type {\n",
       "        vertical-align: middle;\n",
       "    }\n",
       "\n",
       "    .dataframe tbody tr th {\n",
       "        vertical-align: top;\n",
       "    }\n",
       "\n",
       "    .dataframe thead th {\n",
       "        text-align: right;\n",
       "    }\n",
       "</style>\n",
       "<table border=\"1\" class=\"dataframe\">\n",
       "  <thead>\n",
       "    <tr style=\"text-align: right;\">\n",
       "      <th></th>\n",
       "      <th>id</th>\n",
       "      <th>training_data_type</th>\n",
       "      <th>question</th>\n",
       "      <th>content</th>\n",
       "    </tr>\n",
       "  </thead>\n",
       "  <tbody>\n",
       "    <tr>\n",
       "      <th>0</th>\n",
       "      <td>472586-sql</td>\n",
       "      <td>sql</td>\n",
       "      <td>What are the car brands, models, and prices in...</td>\n",
       "      <td>SELECT marka, model, fiyat FROM otomobil_fiyat...</td>\n",
       "    </tr>\n",
       "    <tr>\n",
       "      <th>1</th>\n",
       "      <td>2256708-doc</td>\n",
       "      <td>documentation</td>\n",
       "      <td>None</td>\n",
       "      <td>The following columns are in the otomobil_fiya...</td>\n",
       "    </tr>\n",
       "    <tr>\n",
       "      <th>2</th>\n",
       "      <td>472584-sql</td>\n",
       "      <td>sql</td>\n",
       "      <td>What are the prices of Alfa Romeo cars?</td>\n",
       "      <td>SELECT * FROM otomobil_fiyatlari WHERE marka =...</td>\n",
       "    </tr>\n",
       "    <tr>\n",
       "      <th>3</th>\n",
       "      <td>472587-sql</td>\n",
       "      <td>sql</td>\n",
       "      <td>What is the price of a BMW 3 Series with Sport...</td>\n",
       "      <td>INSERT INTO otomobil_fiyatlari (marka, model, ...</td>\n",
       "    </tr>\n",
       "    <tr>\n",
       "      <th>4</th>\n",
       "      <td>2256709-doc</td>\n",
       "      <td>documentation</td>\n",
       "      <td>None</td>\n",
       "      <td>Otomobil fiyatları tablosu, farklı otomobil ma...</td>\n",
       "    </tr>\n",
       "    <tr>\n",
       "      <th>5</th>\n",
       "      <td>472585-sql</td>\n",
       "      <td>sql</td>\n",
       "      <td>What are the prices of vehicles that are less ...</td>\n",
       "      <td>SELECT * FROM otomobil_fiyatlari WHERE fiyat &lt;...</td>\n",
       "    </tr>\n",
       "    <tr>\n",
       "      <th>6</th>\n",
       "      <td>330019-ddl</td>\n",
       "      <td>ddl</td>\n",
       "      <td>None</td>\n",
       "      <td>\\n    CREATE TABLE IF NOT EXISTS otomobil_fiy...</td>\n",
       "    </tr>\n",
       "  </tbody>\n",
       "</table>\n",
       "</div>"
      ],
      "text/plain": [
       "            id training_data_type  \\\n",
       "0   472586-sql                sql   \n",
       "1  2256708-doc      documentation   \n",
       "2   472584-sql                sql   \n",
       "3   472587-sql                sql   \n",
       "4  2256709-doc      documentation   \n",
       "5   472585-sql                sql   \n",
       "6   330019-ddl                ddl   \n",
       "\n",
       "                                            question  \\\n",
       "0  What are the car brands, models, and prices in...   \n",
       "1                                               None   \n",
       "2            What are the prices of Alfa Romeo cars?   \n",
       "3  What is the price of a BMW 3 Series with Sport...   \n",
       "4                                               None   \n",
       "5  What are the prices of vehicles that are less ...   \n",
       "6                                               None   \n",
       "\n",
       "                                             content  \n",
       "0  SELECT marka, model, fiyat FROM otomobil_fiyat...  \n",
       "1  The following columns are in the otomobil_fiya...  \n",
       "2  SELECT * FROM otomobil_fiyatlari WHERE marka =...  \n",
       "3  INSERT INTO otomobil_fiyatlari (marka, model, ...  \n",
       "4  Otomobil fiyatları tablosu, farklı otomobil ma...  \n",
       "5  SELECT * FROM otomobil_fiyatlari WHERE fiyat <...  \n",
       "6   \\n    CREATE TABLE IF NOT EXISTS otomobil_fiy...  "
      ]
     },
     "execution_count": 7,
     "metadata": {},
     "output_type": "execute_result"
    }
   ],
   "source": [
    "#eğitim verileri referans \n",
    "training_data = vn.get_training_data()\n",
    "training_data"
   ]
  },
  {
   "cell_type": "code",
   "execution_count": null,
   "id": "a74365f2",
   "metadata": {},
   "outputs": [
    {
     "name": "stdout",
     "output_type": "stream",
     "text": [
      "Your app is running at:\n",
      "http://localhost:8084\n",
      " * Serving Flask app 'vanna.flask'\n",
      " * Debug mode: on\n",
      "None\n",
      "Using model gpt-35-turbo-16k-1 for 869.25 tokens (approx)\n",
      "Using model gpt-35-turbo-16k-1 for 109.25 tokens (approx)\n",
      "None\n",
      "Using model gpt-35-turbo-16k-1 for 872.75 tokens (approx)\n",
      "Using model gpt-35-turbo-16k-1 for 120.0 tokens (approx)\n",
      "None\n",
      "Using model gpt-35-turbo-16k-1 for 885.75 tokens (approx)\n",
      "Using model gpt-35-turbo-16k-1 for 128.5 tokens (approx)\n",
      "None\n",
      "Using model gpt-35-turbo-16k-1 for 894.25 tokens (approx)\n",
      "Using model gpt-35-turbo-16k-1 for 136.5 tokens (approx)\n",
      "None\n",
      "Using model gpt-35-turbo-16k-1 for 902.25 tokens (approx)\n",
      "None\n",
      "Using model gpt-35-turbo-16k-1 for 871.25 tokens (approx)\n",
      "None\n",
      "Using model gpt-35-turbo-16k-1 for 480.25 tokens (approx)\n",
      "Using model gpt-35-turbo-16k-1 for 124.25 tokens (approx)\n",
      "None\n",
      "Using model gpt-35-turbo-16k-1 for 484.5 tokens (approx)\n",
      "None\n",
      "Using model gpt-35-turbo-16k-1 for 469.25 tokens (approx)\n",
      "[]\n"
     ]
    }
   ],
   "source": [
    "from vanna.flask import VannaFlaskApp\n",
    "app = VannaFlaskApp(vn)\n",
    "app.run()"
   ]
  },
  {
   "cell_type": "code",
   "execution_count": null,
   "id": "90c2de8f",
   "metadata": {},
   "outputs": [],
   "source": []
  }
 ],
 "metadata": {
  "kernelspec": {
   "display_name": "Python 3 (ipykernel)",
   "language": "python",
   "name": "python3"
  },
  "language_info": {
   "codemirror_mode": {
    "name": "ipython",
    "version": 3
   },
   "file_extension": ".py",
   "mimetype": "text/x-python",
   "name": "python",
   "nbconvert_exporter": "python",
   "pygments_lexer": "ipython3",
   "version": "3.11.5"
  }
 },
 "nbformat": 4,
 "nbformat_minor": 5
}
